{
 "cells": [
  {
   "cell_type": "code",
   "execution_count": 42,
   "id": "5dd6c3df",
   "metadata": {},
   "outputs": [],
   "source": [
    "import numpy as np\n",
    "import matplotlib.pyplot as plt\n",
    "import sympy as smp\n",
    "from scipy.integrate import odeint\n",
    "import matplotlib.pyplot as plt\n",
    "from mpl_toolkits.mplot3d import Axes3D\n",
    "from matplotlib.animation import PillowWriter\n",
    "from matplotlib import animation"
   ]
  },
  {
   "attachments": {
    "image-4.png": {
     "image/png": "[encoded data removed]"
    }
   },
   "cell_type": "markdown",
   "id": "e3d37cf6",
   "metadata": {},
   "source": [
    "![image-4.png](attachment:image-4.png)"
   ]
  },
  {
   "cell_type": "code",
   "execution_count": 43,
   "id": "08b7d613",
   "metadata": {},
   "outputs": [],
   "source": [
    "t = smp.symbols('t')\n",
    "m, l = smp.symbols('m l')\n",
    "k, g = smp.symbols('k g')\n",
    "nu = smp.symbols(r'\\eta')"
   ]
  },
  {
   "cell_type": "markdown",
   "id": "d05c0760",
   "metadata": {},
   "source": [
    "In this case our generalised coordinates are $x$ and $\\theta$"
   ]
  },
  {
   "cell_type": "code",
   "execution_count": 44,
   "id": "6bc3a913",
   "metadata": {},
   "outputs": [],
   "source": [
    "theta = smp.symbols(r'\\theta', cls=smp.Function)"
   ]
  },
  {
   "cell_type": "markdown",
   "id": "29484926",
   "metadata": {},
   "source": [
    "Explicitly write them as functions of time $t$:"
   ]
  },
  {
   "cell_type": "code",
   "execution_count": 45,
   "id": "58fb4350",
   "metadata": {},
   "outputs": [],
   "source": [
    "theta = theta(t)"
   ]
  },
  {
   "cell_type": "markdown",
   "id": "b65bfdbd",
   "metadata": {},
   "source": [
    "Find the derivatives: $\\dot\\theta$, $\\ddot\\theta$, $\\dot x$, $\\ddot x$"
   ]
  },
  {
   "cell_type": "code",
   "execution_count": 46,
   "id": "0533ffaf",
   "metadata": {},
   "outputs": [],
   "source": [
    "theta_d = smp.diff(theta, t)\n",
    "theta_dd = smp.diff(theta_d, t)"
   ]
  },
  {
   "cell_type": "markdown",
   "id": "ab574c15",
   "metadata": {},
   "source": [
    "Express kinetic and potential energy in terms of the generalised coordinates"
   ]
  },
  {
   "cell_type": "code",
   "execution_count": 47,
   "id": "76f4465c",
   "metadata": {},
   "outputs": [],
   "source": [
    "# Kinetic energy: 1/2 M * V * V\n",
    "T = 1/2* m *(smp.diff(l*smp.cos(theta),t)**2 + smp.diff(l*smp.sin(theta),t)**2)\n",
    "\n",
    "# Potential energy: m*g*h\n",
    "V = 1/2*k*theta**2 - m*g*smp.sin(theta)\n",
    "\n",
    "L = T - V"
   ]
  },
  {
   "cell_type": "markdown",
   "id": "8d95bbb3",
   "metadata": {},
   "source": [
    "Get Lagrnage's Equations: \n",
    "$$ \\frac{\\partial L}{\\partial x} - \\frac{d}{dt}\\frac{\\partial L}{\\partial \\dot x} = 0   $$"
   ]
  },
  {
   "cell_type": "code",
   "execution_count": 48,
   "id": "262afabd",
   "metadata": {},
   "outputs": [
    {
     "data": {
      "text/latex": [
       "$\\displaystyle g m \\sin{\\left(\\theta{\\left(t \\right)} \\right)} - 0.5 k \\theta^{2}{\\left(t \\right)} + 0.5 m \\left(l^{2} \\sin^{2}{\\left(\\theta{\\left(t \\right)} \\right)} \\left(\\frac{d}{d t} \\theta{\\left(t \\right)}\\right)^{2} + l^{2} \\cos^{2}{\\left(\\theta{\\left(t \\right)} \\right)} \\left(\\frac{d}{d t} \\theta{\\left(t \\right)}\\right)^{2}\\right)$"
      ],
      "text/plain": [
       "g*m*sin(\\theta(t)) - 0.5*k*\\theta(t)**2 + 0.5*m*(l**2*sin(\\theta(t))**2*Derivative(\\theta(t), t)**2 + l**2*cos(\\theta(t))**2*Derivative(\\theta(t), t)**2)"
      ]
     },
     "execution_count": 48,
     "metadata": {},
     "output_type": "execute_result"
    }
   ],
   "source": [
    "L"
   ]
  },
  {
   "cell_type": "code",
   "execution_count": 49,
   "id": "7dfdb436",
   "metadata": {},
   "outputs": [],
   "source": [
    "LE = (smp.diff(L,theta) - smp.diff(smp.diff(L,theta_d),t) - nu*smp.diff(theta,t)).simplify()"
   ]
  },
  {
   "cell_type": "code",
   "execution_count": 50,
   "id": "ae7211c4",
   "metadata": {},
   "outputs": [
    {
     "data": {
      "text/latex": [
       "$\\displaystyle - 1.0 \\eta \\frac{d}{d t} \\theta{\\left(t \\right)} + 1.0 g m \\cos{\\left(\\theta{\\left(t \\right)} \\right)} - 1.0 k \\theta{\\left(t \\right)} - 1.0 l^{2} m \\frac{d^{2}}{d t^{2}} \\theta{\\left(t \\right)}$"
      ],
      "text/plain": [
       "-1.0*\\eta*Derivative(\\theta(t), t) + 1.0*g*m*cos(\\theta(t)) - 1.0*k*\\theta(t) - 1.0*l**2*m*Derivative(\\theta(t), (t, 2))"
      ]
     },
     "execution_count": 50,
     "metadata": {},
     "output_type": "execute_result"
    }
   ],
   "source": [
    "LE"
   ]
  },
  {
   "cell_type": "code",
   "execution_count": 51,
   "id": "4346221c",
   "metadata": {
    "scrolled": true
   },
   "outputs": [],
   "source": [
    "sols = smp.solve(LE,theta_dd, simlpify=True, rational=False)"
   ]
  },
  {
   "cell_type": "code",
   "execution_count": 52,
   "id": "fe8f70e1",
   "metadata": {
    "scrolled": true
   },
   "outputs": [
    {
     "data": {
      "text/latex": [
       "$\\displaystyle \\frac{1.0 \\left(- \\eta \\frac{d}{d t} \\theta{\\left(t \\right)} + g m \\cos{\\left(\\theta{\\left(t \\right)} \\right)} - k \\theta{\\left(t \\right)}\\right)}{l^{2} m}$"
      ],
      "text/plain": [
       "1.0*(-\\eta*Derivative(\\theta(t), t) + g*m*cos(\\theta(t)) - k*\\theta(t))/(l**2*m)"
      ]
     },
     "execution_count": 52,
     "metadata": {},
     "output_type": "execute_result"
    }
   ],
   "source": [
    "sols[0]"
   ]
  },
  {
   "cell_type": "markdown",
   "id": "4dc7cc75",
   "metadata": {},
   "source": [
    "With the solution for the equations of motion of the system, undo the symbolic expression and perform integration. We now have an equation dependant on $\\dot\\theta$ and other parameters, we have indeed two equations (symilar to state space representation). In this case we will assume $z_1 = \\dot\\theta_1$."
   ]
  },
  {
   "cell_type": "code",
   "execution_count": 53,
   "id": "68adeb17",
   "metadata": {},
   "outputs": [],
   "source": [
    "dzdt_f = smp.lambdify((t,m,g,l,k,nu,theta,theta_d),sols[0])\n",
    "dthetadt_f = smp.lambdify(theta_d,theta_d)"
   ]
  },
  {
   "cell_type": "markdown",
   "id": "be7d7a76",
   "metadata": {},
   "source": [
    "Define a functions to solve for the system of ODEs"
   ]
  },
  {
   "cell_type": "code",
   "execution_count": 54,
   "id": "92fe12aa",
   "metadata": {},
   "outputs": [],
   "source": [
    "def dSdt(S,t,m,g,l,k,nu):\n",
    "    theta, z = S\n",
    "    return [dthetadt_f(z), dzdt_f(t,m,g,l,k,nu,theta,z)]"
   ]
  },
  {
   "cell_type": "code",
   "execution_count": 57,
   "id": "750a559e",
   "metadata": {},
   "outputs": [],
   "source": [
    "t_final = 10\n",
    "frms = 25*t_final\n",
    "t = np.linspace(0,10,frms)\n",
    "m = 0.5\n",
    "l = 1\n",
    "g = 9.8\n",
    "k = 50\n",
    "nu = 0.3\n",
    "ans = odeint(dSdt, y0 =[0,40], t=t, args=(m,g,l,k,nu))"
   ]
  },
  {
   "cell_type": "code",
   "execution_count": 58,
   "id": "fe34c80d",
   "metadata": {},
   "outputs": [
    {
     "data": {
      "image/png": "[encoded data removed]",
      "text/plain": [
       "<Figure size 576x576 with 1 Axes>"
      ]
     },
     "metadata": {
      "needs_background": "light"
     },
     "output_type": "display_data"
    }
   ],
   "source": [
    "x, y = l*np.cos(ans[:,0]), -l*np.sin(ans[:,0])\n",
    "fig, ax = plt.subplots(1,1,figsize=(8,8))\n",
    "def update(i):\n",
    "# clear the axis each frame\n",
    "    ax.clear()\n",
    "    # replot things\n",
    "    ax.scatter(x[i],y[i],c='r',marker='o')\n",
    "    ax.plot([0,x[i]],[0,y[i]],c= 'r',linestyle='--')\n",
    "    lim = 4\n",
    "    ax.set_xlim((-lim, lim))\n",
    "    ax.set_ylim((-lim, lim))\n",
    "\n",
    "ani = animation.FuncAnimation(fig, update, frames=frms, interval=1)\n",
    "ani.save('Rotary_spring_mass.gif',writer='pillow',fps=25)\n"
   ]
  },
  {
   "cell_type": "code",
   "execution_count": null,
   "id": "c07f7b56",
   "metadata": {},
   "outputs": [],
   "source": []
  },
  {
   "cell_type": "code",
   "execution_count": null,
   "id": "1f138d39",
   "metadata": {},
   "outputs": [],
   "source": []
  },
  {
   "cell_type": "code",
   "execution_count": null,
   "id": "19fccc8c",
   "metadata": {},
   "outputs": [],
   "source": []
  }
 ],
 "metadata": {
  "kernelspec": {
   "display_name": "Python 3 (ipykernel)",
   "language": "python",
   "name": "python3"
  },
  "language_info": {
   "codemirror_mode": {
    "name": "ipython",
    "version": 3
   },
   "file_extension": ".py",
   "mimetype": "text/x-python",
   "name": "python",
   "nbconvert_exporter": "python",
   "pygments_lexer": "ipython3",
   "version": "3.9.12"
  }
 },
 "nbformat": 4,
 "nbformat_minor": 5
}
